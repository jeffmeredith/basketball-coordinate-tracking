{
 "cells": [
  {
   "cell_type": "code",
   "execution_count": 5,
   "metadata": {},
   "outputs": [],
   "source": [
    "import json\n",
    "import pandas as pd\n",
    "import numpy as np\n",
    "import cv2\n",
    "import copy\n",
    "from ultralytics import YOLO\n",
    "import shutil\n",
    "import os\n",
    "import ast"
   ]
  },
  {
   "cell_type": "code",
   "execution_count": 114,
   "metadata": {},
   "outputs": [],
   "source": [
    "with open('data/basketball-instants-dataset.json', 'r') as f:\n",
    "    data = json.load(f)"
   ]
  },
  {
   "cell_type": "code",
   "execution_count": 115,
   "metadata": {},
   "outputs": [],
   "source": [
    "basketball_data = []\n",
    "player_data = []\n",
    "\n",
    "for timestamp in data:\n",
    "    ball_timestamp = copy.deepcopy(timestamp)\n",
    "    player_timestamp = copy.deepcopy(timestamp)\n",
    "    ball_timestamp['annotations'] = []\n",
    "    player_timestamp['annotations'] = []\n",
    "    basketball_data.append(ball_timestamp)\n",
    "    player_data.append(player_timestamp)\n",
    "    for annotation in timestamp['annotations']:\n",
    "        if annotation['type'] == 'ball':\n",
    "            ball_timestamp['annotations'].append(annotation)\n",
    "        elif annotation['type'] == 'player':\n",
    "            player_timestamp['annotations'].append(annotation)"
   ]
  },
  {
   "cell_type": "code",
   "execution_count": 116,
   "metadata": {},
   "outputs": [],
   "source": [
    "with open('data/basketball-positions.json', \"w\") as f:\n",
    "    json.dump(basketball_data, f)\n",
    "with open('data/player-positions.json', \"w\") as f:\n",
    "    json.dump(player_data, f)"
   ]
  },
  {
   "cell_type": "code",
   "execution_count": 6,
   "metadata": {},
   "outputs": [],
   "source": [
    "with open('data/basketball-positions.json', 'r') as f:\n",
    "    basketball_data = json.load(f)\n",
    "with open('data/player-positions.json', 'r') as f:\n",
    "    player_data = json.load(f)"
   ]
  },
  {
   "cell_type": "code",
   "execution_count": 7,
   "metadata": {},
   "outputs": [
    {
     "name": "stdout",
     "output_type": "stream",
     "text": [
      "Number of images with ball visible: 320\n",
      "Number of images total: 364\n",
      "Number of images with players: 162\n"
     ]
    }
   ],
   "source": [
    "count_with_ball = 0\n",
    "count_with_player = 0\n",
    "for timestamp in basketball_data:\n",
    "    if timestamp['annotations'][0]['visible']:\n",
    "        count_with_ball += 1\n",
    "for timestamp in player_data:\n",
    "    if len(timestamp['annotations']) > 0:\n",
    "        count_with_player += 1\n",
    "print(\"Number of images with ball visible: \" + str(count_with_ball))\n",
    "print(\"Number of images total: \" + str(len(basketball_data)))\n",
    "print(\"Number of images with players: \" + str(count_with_player))"
   ]
  },
  {
   "cell_type": "code",
   "execution_count": 4,
   "metadata": {},
   "outputs": [],
   "source": [
    "for frame in basketball_data:\n",
    "    if frame['annotations'][0]['visible']:\n",
    "        filename1 = 'camcourt1_' + str(frame['timestamp']) + '_' + '0.png'\n",
    "        filename2 = 'camcourt1_' + str(frame['timestamp']) + '_' + '40.png'\n",
    "        filename3 = 'camcourt2_' + str(frame['timestamp']) + '_' + '0.png'\n",
    "        filename4 = 'camcourt2_' + str(frame['timestamp']) + '_' + '40.png'\n",
    "        shutil.copy('data/' + str(frame['arena_label']) + '/' + str(frame['game_id']) + '/' + filename1, os.path.join('yolo-basketball-data/images/', filename1))\n",
    "        try:\n",
    "            shutil.copy('data/' + str(frame['arena_label']) + '/' + str(frame['game_id']) + '/' + filename2, os.path.join('yolo-basketball-data/images/', filename2))\n",
    "        except FileNotFoundError:\n",
    "            filename2 = filename2[:-6] + '80.png'\n",
    "            shutil.copy('data/' + str(frame['arena_label']) + '/' + str(frame['game_id']) + '/' + filename2, os.path.join('yolo-basketball-data/images/', filename2))\n",
    "        shutil.copy('data/' + str(frame['arena_label']) + '/' + str(frame['game_id']) + '/' + filename3, os.path.join('yolo-basketball-data/images/', filename3))\n",
    "        try:\n",
    "            shutil.copy('data/' + str(frame['arena_label']) + '/' + str(frame['game_id']) + '/' + filename4, os.path.join('yolo-basketball-data/images/', filename4))\n",
    "        except FileNotFoundError:\n",
    "            filename4 = filename4[:-6] + '80.png'\n",
    "            shutil.copy('data/' + str(frame['arena_label']) + '/' + str(frame['game_id']) + '/' + filename4, os.path.join('yolo-basketball-data/images/', filename4))\n",
    "\n"
   ]
  },
  {
   "cell_type": "code",
   "execution_count": 8,
   "metadata": {},
   "outputs": [],
   "source": [
    "def str_to_dict(s):\n",
    "    try:\n",
    "        return ast.literal_eval(s)\n",
    "    except ValueError:\n",
    "        return None\n",
    "\n",
    "ball_annotations = pd.read_csv('basketball_annotations.csv', converters={'region_shape_attributes': str_to_dict})\n",
    "ball_annotations = ball_annotations[['filename', 'region_count', 'region_shape_attributes']]\n",
    "ball_annotations = ball_annotations[ball_annotations['region_count'] == 1]\n",
    "ball_annotations['is_training'] = np.concatenate([np.array([True] * int(0.8 * len(ball_annotations))), np.array([False] * (len(ball_annotations) - int(0.8 * len(ball_annotations))))])\n",
    "ball_annotations['is_training'] = ball_annotations['is_training'].sample(frac=1).reset_index(drop=True)"
   ]
  },
  {
   "cell_type": "code",
   "execution_count": 9,
   "metadata": {},
   "outputs": [
    {
     "data": {
      "text/html": [
       "<div>\n",
       "<style scoped>\n",
       "    .dataframe tbody tr th:only-of-type {\n",
       "        vertical-align: middle;\n",
       "    }\n",
       "\n",
       "    .dataframe tbody tr th {\n",
       "        vertical-align: top;\n",
       "    }\n",
       "\n",
       "    .dataframe thead th {\n",
       "        text-align: right;\n",
       "    }\n",
       "</style>\n",
       "<table border=\"1\" class=\"dataframe\">\n",
       "  <thead>\n",
       "    <tr style=\"text-align: right;\">\n",
       "      <th></th>\n",
       "      <th>filename</th>\n",
       "      <th>region_count</th>\n",
       "      <th>region_shape_attributes</th>\n",
       "      <th>is_training</th>\n",
       "    </tr>\n",
       "  </thead>\n",
       "  <tbody>\n",
       "    <tr>\n",
       "      <th>0</th>\n",
       "      <td>camcourt1_1512405572696_0.png</td>\n",
       "      <td>1</td>\n",
       "      <td>{'name': 'rect', 'x': 1415, 'y': 1090, 'width'...</td>\n",
       "      <td>True</td>\n",
       "    </tr>\n",
       "    <tr>\n",
       "      <th>1</th>\n",
       "      <td>camcourt1_1512405572696_40.png</td>\n",
       "      <td>1</td>\n",
       "      <td>{'name': 'rect', 'x': 1342, 'y': 1087, 'width'...</td>\n",
       "      <td>True</td>\n",
       "    </tr>\n",
       "    <tr>\n",
       "      <th>2</th>\n",
       "      <td>camcourt1_1512405932787_0.png</td>\n",
       "      <td>1</td>\n",
       "      <td>{'name': 'rect', 'x': 535, 'y': 1092, 'width':...</td>\n",
       "      <td>True</td>\n",
       "    </tr>\n",
       "    <tr>\n",
       "      <th>3</th>\n",
       "      <td>camcourt1_1512405932787_40.png</td>\n",
       "      <td>1</td>\n",
       "      <td>{'name': 'rect', 'x': 524, 'y': 1090, 'width':...</td>\n",
       "      <td>False</td>\n",
       "    </tr>\n",
       "    <tr>\n",
       "      <th>16</th>\n",
       "      <td>camcourt1_1512421952112_0.png</td>\n",
       "      <td>1</td>\n",
       "      <td>{'name': 'rect', 'x': 1427, 'y': 921, 'width':...</td>\n",
       "      <td>False</td>\n",
       "    </tr>\n",
       "  </tbody>\n",
       "</table>\n",
       "</div>"
      ],
      "text/plain": [
       "                          filename  region_count  \\\n",
       "0    camcourt1_1512405572696_0.png             1   \n",
       "1   camcourt1_1512405572696_40.png             1   \n",
       "2    camcourt1_1512405932787_0.png             1   \n",
       "3   camcourt1_1512405932787_40.png             1   \n",
       "16   camcourt1_1512421952112_0.png             1   \n",
       "\n",
       "                              region_shape_attributes is_training  \n",
       "0   {'name': 'rect', 'x': 1415, 'y': 1090, 'width'...        True  \n",
       "1   {'name': 'rect', 'x': 1342, 'y': 1087, 'width'...        True  \n",
       "2   {'name': 'rect', 'x': 535, 'y': 1092, 'width':...        True  \n",
       "3   {'name': 'rect', 'x': 524, 'y': 1090, 'width':...       False  \n",
       "16  {'name': 'rect', 'x': 1427, 'y': 921, 'width':...       False  "
      ]
     },
     "execution_count": 9,
     "metadata": {},
     "output_type": "execute_result"
    }
   ],
   "source": [
    "ball_annotations.head()"
   ]
  },
  {
   "cell_type": "code",
   "execution_count": 47,
   "metadata": {},
   "outputs": [],
   "source": [
    "for index, row in ball_annotations.iterrows():\n",
    "    label_filepath = \"\"\n",
    "    is_train = row['is_training']\n",
    "    filename = row['filename']\n",
    "    label_filename = filename[:-4] + \".txt\"\n",
    "    annotation = row['region_shape_attributes']\n",
    "    height, width, _ = cv2.imread('yolo-basketball-data/images/' + filename).shape\n",
    "    if is_train:\n",
    "        label_filepath = os.path.join('yolo-basketball-data/train/labels', label_filename)\n",
    "        shutil.move('yolo-basketball-data/images/' + filename, 'yolo-basketball-data/train/images')\n",
    "    else:\n",
    "        label_filepath = os.path.join('yolo-basketball-data/val/labels', label_filename)\n",
    "        shutil.move('yolo-basketball-data/images/' + filename, 'yolo-basketball-data/val/images')\n",
    "    normal_x = (annotation['x'] + annotation['width']/2) / width\n",
    "    normal_y = (annotation['y'] + annotation['height']/2) / height\n",
    "    normal_width = annotation['width'] / width\n",
    "    normal_height = annotation['height'] / height\n",
    "    with open(label_filepath, 'w') as f:\n",
    "        f.write(f\"0 {normal_x} {normal_y} {normal_width} {normal_height}\")"
   ]
  },
  {
   "cell_type": "code",
   "execution_count": null,
   "metadata": {},
   "outputs": [],
   "source": []
  }
 ],
 "metadata": {
  "kernelspec": {
   "display_name": "bball-tracker",
   "language": "python",
   "name": "python3"
  },
  "language_info": {
   "codemirror_mode": {
    "name": "ipython",
    "version": 3
   },
   "file_extension": ".py",
   "mimetype": "text/x-python",
   "name": "python",
   "nbconvert_exporter": "python",
   "pygments_lexer": "ipython3",
   "version": "3.12.2"
  }
 },
 "nbformat": 4,
 "nbformat_minor": 2
}
